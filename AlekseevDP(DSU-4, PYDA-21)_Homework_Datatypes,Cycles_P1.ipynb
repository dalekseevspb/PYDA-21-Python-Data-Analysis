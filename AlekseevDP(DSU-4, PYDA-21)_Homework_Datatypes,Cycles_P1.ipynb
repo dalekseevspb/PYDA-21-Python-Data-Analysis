{
 "cells": [
  {
   "cell_type": "code",
   "execution_count": 36,
   "id": "d20e2861",
   "metadata": {},
   "outputs": [
    {
     "name": "stdout",
     "output_type": "stream",
     "text": [
      "Введите строку: testing\n",
      "Число букв нечетное: 7\n",
      "Средняя буква: t\n"
     ]
    }
   ],
   "source": [
    "# Алексеев Д.П. (DSU-4, PYDA-21)\n",
    "# Домашнее задание к лекции \"Введение в типы данных и циклы. Часть 1\"\n",
    "\n",
    "# Задание 1\n",
    "# Дана переменная, в которой хранится слово из латинских букв. Напишите код, который выводит на экран:\n",
    "# - среднюю букву, если число букв в слове нечетное;\n",
    "# - две средних буквы, если число букв четное.\n",
    "\n",
    "user_input = str(input(\"Введите строку: \"))\n",
    "\n",
    "if len(user_input)%2 == 0:\n",
    "    print(\"Число букв четное:\", len(user_input))\n",
    "    print(\"Две средние буквы:\", user_input[int(len(user_input)/2)-1:int(len(user_input)/2)+1])\n",
    "else:\n",
    "    print(\"Число букв нечетное:\", len(user_input))\n",
    "    print(\"Средняя буква:\", user_input[int(len(user_input)/2):int(len(user_input)/2)+1])\n",
    "    "
   ]
  },
  {
   "cell_type": "code",
   "execution_count": 44,
   "id": "bd66dc9e",
   "metadata": {},
   "outputs": [
    {
     "name": "stdout",
     "output_type": "stream",
     "text": [
      "Введите число: 1\n",
      "Введите число: 2\n",
      "Введите число: 3\n",
      "Введите число: 4\n",
      "Введите число: 5\n",
      "Введите число: 6\n",
      "Введите число: 0\n",
      "Сумма: 21\n"
     ]
    }
   ],
   "source": [
    "# Задание 2\n",
    "# Напишите программу, которая последовательно запрашивает у пользователя числа (по одному за раз) \n",
    "# и после первого нуля выводит сумму всех ранее введенных чисел.\n",
    "\n",
    "summ = 0\n",
    "user_number = 1\n",
    "\n",
    "while user_number != 0:\n",
    "    user_number = int(input(\"Введите число: \"))\n",
    "    summ += user_number\n",
    "\n",
    "print(\"Сумма:\", summ)\n",
    "    "
   ]
  },
  {
   "cell_type": "code",
   "execution_count": 70,
   "id": "c02892b1",
   "metadata": {},
   "outputs": [
    {
     "name": "stdout",
     "output_type": "stream",
     "text": [
      "Идеальные пары:\n",
      "Alex и Emma\n",
      "Arthur и Kate\n",
      "John и Kira\n",
      "Peter и Liza\n",
      "Richard и Trisha\n"
     ]
    }
   ],
   "source": [
    "# Задание 3\n",
    "# Мы делаем MVP dating-сервиса, и у нас есть список парней и девушек.\n",
    "# Выдвигаем гипотезу: лучшие рекомендации мы получим, если просто отсортируем имена по алфавиту и \n",
    "# познакомим людей с одинаковыми индексами после сортировки! \n",
    "# Но мы не будем никого знакомить, если кто-то может остаться без пары:\n",
    "\n",
    "# Примеры работы программы:\n",
    "# boys = [‘Peter’, ‘Alex’, ‘John’, ‘Arthur’, ‘Richard’]\n",
    "# girls = [‘Kate’, ‘Liza’, ‘Kira’, ‘Emma’, ‘Trisha’]\n",
    "# Результат:\n",
    "# Идеальные пары:\n",
    "# Alex и Emma\n",
    "# Arthur и Kate\n",
    "# John и Kira\n",
    "# Peter и Liza\n",
    "# Richard и Trisha\n",
    "\n",
    "# boys = [‘Peter’, ‘Alex’, ‘John’, ‘Arthur’, ‘Richard’, ‘Michael’]\n",
    "# girls = [‘Kate’, ‘Liza’, ‘Kira’, ‘Emma’, ‘Trisha’]\n",
    "# Результат:\n",
    "# Внимание, кто-то может остаться без пары!\n",
    "\n",
    "boys = ['Peter', 'Alex', 'John', 'Arthur', 'Richard']\n",
    "girls = ['Kate', 'Liza', 'Kira', 'Emma', 'Trisha']\n",
    "sorted_boys = sorted(boys)\n",
    "sorted_girls = sorted(girls)\n",
    "\n",
    "if len(boys) == len(girls):\n",
    "    print(\"Идеальные пары:\")\n",
    "    for i in range(len(sorted_boys)):\n",
    "        print(sorted_boys[i], \"и\", sorted_girls[i])\n",
    "\n",
    "else:\n",
    "    print(\"Внимание, кто-то может остаться без пары!\")"
   ]
  },
  {
   "cell_type": "code",
   "execution_count": 96,
   "id": "02a00155",
   "metadata": {},
   "outputs": [
    {
     "name": "stdout",
     "output_type": "stream",
     "text": [
      "Средняя температура в странах:\n",
      "Thailand - 23.9 °C\n",
      "Germany - 13.8 °C\n",
      "Russia - 3.7 °C\n",
      "Poland - 12.0 °C\n"
     ]
    }
   ],
   "source": [
    "# Задание 4\n",
    "# У нас есть список, содержащий информацию о среднедневной температуре в Фаренгейтах за произвольный период по странам \n",
    "# (структура данных в примере). Необходимо написать код, который рассчитает среднюю температуру за период в Цельсиях(!) \n",
    "# для каждой страны.\n",
    "\n",
    "# Пример работы программы:\n",
    "# countries_temperature = [\n",
    "# [‘Thailand’, [75.2, 77, 78.8, 73.4, 68, 75.2, 77]],\n",
    "# [‘Germany’, [57.2, 55.4, 59, 59, 53.6]],\n",
    "# [‘Russia’, [35.6, 37.4, 39.2, 41, 42.8, 39.2, 35.6]],\n",
    "# [‘Poland’, [50, 50, 53.6, 57.2, 55.4, 55.4]]\n",
    "# ]\n",
    "# Результат:\n",
    "# Средняя температура в странах:\n",
    "# Thailand - 23.9 С\n",
    "# Germany - 13.8 С\n",
    "# Russia - 3.7 С\n",
    "# Poland - 12.0 С\n",
    "\n",
    "# Формула для конвертации: °С = (°F − 32) × 5/9\n",
    "\n",
    "countries_temperature = [\n",
    "['Thailand', [75.2, 77, 78.8, 73.4, 68, 75.2, 77]],\n",
    "['Germany', [57.2, 55.4, 59, 59, 53.6]],\n",
    "['Russia', [35.6, 37.4, 39.2, 41, 42.8, 39.2, 35.6]],\n",
    "['Poland', [50, 50, 53.6, 57.2, 55.4, 55.4]]\n",
    "]\n",
    "\n",
    "print(\"Средняя температура в странах:\")\n",
    "\n",
    "for country in countries_temperature:\n",
    "    print(country[0], \"-\", round((sum(country[1])/len(country[1])-32)*5/9, 1), \"°C\")"
   ]
  }
 ],
 "metadata": {
  "kernelspec": {
   "display_name": "Python 3",
   "language": "python",
   "name": "python3"
  },
  "language_info": {
   "codemirror_mode": {
    "name": "ipython",
    "version": 3
   },
   "file_extension": ".py",
   "mimetype": "text/x-python",
   "name": "python",
   "nbconvert_exporter": "python",
   "pygments_lexer": "ipython3",
   "version": "3.8.8"
  }
 },
 "nbformat": 4,
 "nbformat_minor": 5
}
