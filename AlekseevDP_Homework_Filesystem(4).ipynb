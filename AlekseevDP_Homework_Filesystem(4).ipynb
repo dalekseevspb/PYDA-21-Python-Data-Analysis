{
 "cells": [
  {
   "cell_type": "code",
   "execution_count": null,
   "id": "b17c587c",
   "metadata": {},
   "outputs": [],
   "source": [
    "# Алексеев Д.П. (DSU-4, PYDA-21)\n",
    "# Домашнее задание к лекции \"Работа с файловой системой и модули\" (#4)\n",
    "\n",
    "# 1) Переведите содержимое файла purchase_log.txt в словарь purchases вида:\n",
    "# {‘1840e0b9d4’: ‘Продукты’, …}\n",
    "\n",
    "# 2) Для каждого user_id в файле visit_log.csv определите третий столбец с категорией покупки \n",
    "# (если покупка была, сам файл visit_log.csv изменять не надо). \n",
    "# Запишите в файл funnel.csv визиты из файла visit_log.csv, в которых были покупки с указанием категории.\n",
    "# Учтите условия на данные:\n",
    "# - содержимое purchase_log.txt помещается в оперативную память компьютера\n",
    "# - содержимое visit_log.csv - нет; используйте только построчную обработку этого файла"
   ]
  },
  {
   "cell_type": "code",
   "execution_count": 27,
   "id": "10c429ed",
   "metadata": {},
   "outputs": [],
   "source": [
    "# 1) Переведите содержимое файла purchase_log.txt в словарь purchases вида:\n",
    "# {‘1840e0b9d4’: ‘Продукты’, …}\n",
    "import json\n",
    "\n",
    "i = 0\n",
    "purchases = {}\n",
    "\n",
    "with open('purchase_log.txt', encoding='utf-8') as f:  # прописываем явно кодировку utf-8, иначе загружаются крякозяблики\n",
    "    for line in f:\n",
    "        line = line.strip()\n",
    "        line_dict = json.loads(line)\n",
    "        \n",
    "        # задаем ключ и значение из загруженной строки:\n",
    "        key = line_dict['user_id']\n",
    "        value = line_dict['category']\n",
    "        \n",
    "        if key != 'user_id': # откидываем первую строчку(заголовок файла)\n",
    "            purchases.setdefault(key, value) # устанавливаем новый ключ и значение в результирующем словаре\n",
    "        \n",
    "# если нужен вывод словаря на печать, то ограничимся первыми 10000 значений, иначе при загрузке всего файла вылетает ошибка \"IOPub data rate exceeded\"\n",
    "#         i += 1\n",
    "#         if i > 10000:\n",
    "#             break\n",
    "            \n",
    "# print(purchases)"
   ]
  },
  {
   "cell_type": "code",
   "execution_count": 28,
   "id": "1d7fec88",
   "metadata": {},
   "outputs": [],
   "source": [
    "# 2) Для каждого user_id в файле visit_log.csv определите третий столбец с категорией покупки \n",
    "# (если покупка была, сам файл visit_log.csv изменять не надо). \n",
    "# Запишите в файл funnel.csv визиты из файла visit_log.csv, в которых были покупки с указанием категории.\n",
    "# Учтите условия на данные:\n",
    "# - содержимое purchase_log.txt помещается в оперативную память компьютера\n",
    "# - содержимое visit_log.csv - нет; используйте только построчную обработку этого файла\n",
    "\n",
    "# открываем 1-ый файл на чтение, 2-ой на запись:\n",
    "with open('visit_log.csv', 'r', encoding='utf-8') as source, open('funnel.csv','w', encoding='utf-8') as result: \n",
    "    for line in source:\n",
    "        line_corr = line.strip().split(',') # подготовка загруженной строки\n",
    "        if line_corr[0] in purchases.keys(): # если user_id из файла равен значению ключа('user_id') из словаря(задание №1), \n",
    "            line_corr.append(purchases[line_corr[0]])  # то добавляем к загруженной строке категорию покупки из словаря\n",
    "            line_to_add = ','.join(line_corr)\n",
    "        elif line_corr[0] == 'user_id': # обработка (сохранение) заголовка файла с наименованиями колонок\n",
    "            line_corr.append('category')\n",
    "            line_to_add=','.join(line_corr)\n",
    "        else: # если user_id из файла НЕ равен значению ключа('user_id') из словаря(задание №1), то оставляем строку \"как есть\"\n",
    "            line_to_add=','.join(line_corr)\n",
    "        result.write(line_to_add+'\\n') # записываем новую строку в результирующий файл\n"
   ]
  }
 ],
 "metadata": {
  "kernelspec": {
   "display_name": "Python 3",
   "language": "python",
   "name": "python3"
  },
  "language_info": {
   "codemirror_mode": {
    "name": "ipython",
    "version": 3
   },
   "file_extension": ".py",
   "mimetype": "text/x-python",
   "name": "python",
   "nbconvert_exporter": "python",
   "pygments_lexer": "ipython3",
   "version": "3.8.8"
  }
 },
 "nbformat": 4,
 "nbformat_minor": 5
}
