{
 "cells": [
  {
   "cell_type": "code",
   "execution_count": 1,
   "id": "d20e2861",
   "metadata": {},
   "outputs": [
    {
     "name": "stdout",
     "output_type": "stream",
     "text": [
      "{98, 35, 15, 213, 54, 119}\n"
     ]
    }
   ],
   "source": [
    "# Алексеев Д.П. (DSU-4, PYDA-21)\n",
    "# Домашнее задание к лекции \"Введение в типы данных и циклы. Часть 2\"\n",
    "\n",
    "# Задание 1\n",
    "# Дана переменная, в которой хранится словарь, содержащий гео-метки для каждого пользователя \n",
    "# (пример структуры данных приведен ниже). Вам необходимо написать программу, \n",
    "# которая выведет на экран множество уникальных гео-меток всех пользователей.\n",
    "\n",
    "# Пример работы программы:\n",
    "# ids = {'user1': [213, 213, 213, 15, 213], \n",
    "#        'user2': [54, 54, 119, 119, 119], \n",
    "#        'user3': [213, 98, 98, 35]}\n",
    "\n",
    "# Результат: {98, 35, 15, 213, 54, 119}\n",
    "\n",
    "ids = {'user1': [213, 213, 213, 15, 213], \n",
    "       'user2': [54, 54, 119, 119, 119], \n",
    "       'user3': [213, 98, 98, 35]}\n",
    "\n",
    "sequence = []\n",
    "for value in ids.items():\n",
    "    sequence += value[1]\n",
    "    \n",
    "print(set(sequence))"
   ]
  },
  {
   "cell_type": "code",
   "execution_count": 3,
   "id": "5bb237cd",
   "metadata": {},
   "outputs": [
    {
     "name": "stdout",
     "output_type": "stream",
     "text": [
      "Поисковых запросов, содержащих 2 слов(а): 42.86 %\n",
      "Поисковых запросов, содержащих 3 слов(а): 57.14 %\n"
     ]
    }
   ],
   "source": [
    "# Задание 2\n",
    "# Дана переменная, в которой хранится список поисковых запросов пользователя (пример структуры данных приведен ниже). \n",
    "# Вам необходимо написать программу, которая выведет на экран распределение количества слов в запросах в требуемом виде.\n",
    "\n",
    "# Пример работы программы:\n",
    "# queries = [\n",
    "# ‘смотреть сериалы онлайн’,\n",
    "# ‘новости спорта’,\n",
    "# ‘афиша кино’,\n",
    "# ‘курс доллара’,\n",
    "# ‘сериалы этим летом’,\n",
    "# ‘курс по питону’,\n",
    "# ‘сериалы про спорт’,\n",
    "# ]\n",
    "\n",
    "# Результат:\n",
    "# Поисковых запросов, содержащих 2 слов(а): 42.86%\n",
    "# Поисковых запросов, содержащих 3 слов(а): 57.14%\n",
    "\n",
    "queries = [\n",
    "'смотреть сериалы онлайн',\n",
    "'новости спорта',\n",
    "'афиша кино',\n",
    "'курс доллара',\n",
    "'сериалы этим летом',\n",
    "'курс по питону',\n",
    "'сериалы про спорт'\n",
    "]\n",
    "\n",
    "count_2words = 0\n",
    "count_3words = 0\n",
    "\n",
    "for value in queries:\n",
    "    if len(value.split(' ')) == 2:\n",
    "        count_2words += 1\n",
    "    elif len(value.split(' ')) == 3:\n",
    "        count_3words += 1\n",
    "    else:\n",
    "        print(\"Есть поисковые запросы, содержащие менее 2-х или более 3-слов!\")\n",
    "        \n",
    "print(\"Поисковых запросов, содержащих 2 слов(а):\", round(count_2words / len(queries) * 100, 2), \"%\")\n",
    "print(\"Поисковых запросов, содержащих 3 слов(а):\", round(count_3words / len(queries) * 100, 2), \"%\")"
   ]
  },
  {
   "cell_type": "code",
   "execution_count": 31,
   "id": "8eaa12bb",
   "metadata": {},
   "outputs": [
    {
     "data": {
      "text/plain": [
       "{'vk': {'revenue': 103, 'cost': 98, 'ROI': 5.1},\n",
       " 'yandex': {'revenue': 179, 'cost': 153, 'ROI': 16.99},\n",
       " 'facebook': {'revenue': 103, 'cost': 110, 'ROI': -6.36},\n",
       " 'adwords': {'revenue': 35, 'cost': 34, 'ROI': 2.94},\n",
       " 'twitter': {'revenue': 11, 'cost': 24, 'ROI': -54.17}}"
      ]
     },
     "execution_count": 31,
     "metadata": {},
     "output_type": "execute_result"
    }
   ],
   "source": [
    "# Задание 3\n",
    "# Дана переменная, в которой хранится информация о затратах и доходе рекламных кампаний по различным источникам. \n",
    "# Необходимо дополнить исходную структуру показателем ROI, который рассчитаем по формуле: (revenue / cost - 1) * 100\n",
    "\n",
    "# Пример работы программы:\n",
    "# results = {\n",
    "#     'vk': {'revenue': 103, 'cost': 98},\n",
    "#     'yandex': {'revenue': 179, 'cost': 153},\n",
    "#     'facebook': {'revenue': 103, 'cost': 110},\n",
    "#     'adwords': {'revenue': 35, 'cost': 34},\n",
    "#     'twitter': {'revenue': 11, 'cost': 24},\n",
    "# }\n",
    "\n",
    "# Результат:\n",
    "# {'adwords': {'revenue': 35, 'cost': 34, 'ROI': 2.94},\n",
    "#  'facebook': {'revenue': 103, 'cost': 110, 'ROI': -6.36},\n",
    "#  'twitter': {'revenue': 11, 'cost': 24, 'ROI': -54.17},\n",
    "#  'vk': {'revenue': 103, 'cost': 98, 'ROI': 5.1},\n",
    "#  'yandex': {'revenue': 179, 'cost': 153, 'ROI': 16.99}}\n",
    "\n",
    "results = {\n",
    "    'vk': {'revenue': 103, 'cost': 98},\n",
    "    'yandex': {'revenue': 179, 'cost': 153},\n",
    "    'facebook': {'revenue': 103, 'cost': 110},\n",
    "    'adwords': {'revenue': 35, 'cost': 34},\n",
    "    'twitter': {'revenue': 11, 'cost': 24},\n",
    "}\n",
    "\n",
    "for company, values in results.items():\n",
    "    ROI = round((values['revenue']/values['cost'] - 1)*100, 2)\n",
    "    values['ROI'] = ROI\n",
    "    \n",
    "results"
   ]
  },
  {
   "cell_type": "code",
   "execution_count": 22,
   "id": "6528aa0e",
   "metadata": {},
   "outputs": [
    {
     "name": "stdout",
     "output_type": "stream",
     "text": [
      "Максимальный объем продаж на рекламном канале: vk , и равен: 120\n"
     ]
    }
   ],
   "source": [
    "# Задание 4\n",
    "# Дана переменная, в которой хранится статистика рекламных каналов по объемам продаж (пример структуры данных приведен ниже). \n",
    "# Напишите программу, которая возвращает название канала с максимальным объемом продаж.\n",
    "\n",
    "# Пример работы программы:\n",
    "# stats = {'facebook': 55, 'yandex': 115, 'vk': 120, 'google': 99, 'email': 42, 'ok': 98}\n",
    "\n",
    "# Результат: Максимальный объем продаж на рекламном канале: vk\n",
    "\n",
    "stats = {'facebook': 55, 'yandex': 115, 'vk': 120, 'google': 99, 'email': 42, 'ok': 98}\n",
    "\n",
    "max_value = 0\n",
    "max_canal = ''\n",
    "\n",
    "for key, value in stats.items():\n",
    "    if value >= max_value:\n",
    "        max_value = value\n",
    "        max_canal = key\n",
    "        \n",
    "print(\"Максимальный объем продаж на рекламном канале:\", max_canal, \", и равен:\", max_value)"
   ]
  }
 ],
 "metadata": {
  "kernelspec": {
   "display_name": "Python 3",
   "language": "python",
   "name": "python3"
  },
  "language_info": {
   "codemirror_mode": {
    "name": "ipython",
    "version": 3
   },
   "file_extension": ".py",
   "mimetype": "text/x-python",
   "name": "python",
   "nbconvert_exporter": "python",
   "pygments_lexer": "ipython3",
   "version": "3.8.8"
  }
 },
 "nbformat": 4,
 "nbformat_minor": 5
}
